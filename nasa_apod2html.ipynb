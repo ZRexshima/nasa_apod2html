{
 "cells": [
  {
   "cell_type": "code",
   "execution_count": 18,
   "id": "35ce5b22-dab6-48a4-b7f1-2596ffcf9e5c",
   "metadata": {},
   "outputs": [],
   "source": [
    "from datetime import datetime\n",
    "import json\n",
    "import re\n",
    "import tabulate\n",
    "import textwrap\n",
    "import requests\n",
    "\n",
    "secrets_file = 'secrets.txt'\n",
    "with open(secrets_file) as file:\n",
    "    api_key = file.read()\n",
    "\n",
    "timestamp = datetime.today()\n",
    "url = 'https://api.nasa.gov/planetary/apod'\n",
    "params = {'api_key': api_key,\n",
    "         'count': 5}\n",
    "r = requests.get(url, params=params)"
   ]
  },
  {
   "cell_type": "code",
   "execution_count": 19,
   "id": "afada390-fd16-43b6-9fde-046d44b7e958",
   "metadata": {},
   "outputs": [],
   "source": [
    "if r.status_code == 200:\n",
    "    data = r.json()\n",
    "    # Filter for images only\n",
    "    filtered = [image for image in data if image.get('media_type') == 'image']\n",
    "    # Sort by date\n",
    "    filtered = sorted(filtered, key= lambda image: image['date'])\n",
    "    # Arbitrarily use the latest image\n",
    "    latest = filtered[-1]\n",
    "    data_dict = dict(title = latest.get('title'),\n",
    "                     copyright = latest.get('copyright', 'N/A').strip(),\n",
    "                     url = latest.get('url'),\n",
    "                     is_hd = False,\n",
    "                     description = latest.get('explanation'))\n",
    "    if latest.get('hdurl'):\n",
    "        data_dict['url'] = latest.get('hdurl')\n",
    "        data_dict['is_hd'] = True"
   ]
  },
  {
   "cell_type": "code",
   "execution_count": 20,
   "id": "26d1764b-d1eb-4cab-ae05-782177602c75",
   "metadata": {},
   "outputs": [],
   "source": [
    "text = data_dict.get('description')\n",
    "beginning = ['<doctype html>','<html>', '<head>', '<title>', \"Today's APOD Image from NASA\", '</title>',\n",
    "             '</head>', '<body>']\n",
    "ending = ['</body>', '</html>']\n",
    "\n",
    "url = f\"<a href=\\\"{data_dict['url']}\\\">URL</a>\"\n",
    "table = tabulate.tabulate([\n",
    "    ['Title: ', data_dict['title']],\n",
    "    ['Copyright: ', data_dict['copyright']],\n",
    "    ['URL: ', 'INSERT URL HERE'],\n",
    "    ['Is HD: ', data_dict['is_hd']],\n",
    "    ['Description: ', data_dict['description']]],\n",
    "                        tablefmt='html',\n",
    "                        colalign=('right', 'left'),\n",
    "                                  maxcolwidths=[None, 79])\n",
    "\n",
    "# Change URL to be a link in the HTML\n",
    "linked_table = re.sub(r'INSERT URL HERE', url, table)\n",
    "date_string = timestamp.strftime('%Y-%m-%d-%H%M')\n",
    "file = f'APOD-{date_string}JST.html'\n",
    "with open(file, 'w') as f:\n",
    "    f.write('\\n'.join(beginning))\n",
    "    f.write('\\n')\n",
    "    f.write(linked_table)\n",
    "    f.write('\\n')\n",
    "    f.write('\\n'.join(ending))"
   ]
  },
  {
   "cell_type": "code",
   "execution_count": null,
   "id": "c9ac768b-bdda-4b00-9e20-34bfcb956a8b",
   "metadata": {},
   "outputs": [],
   "source": []
  }
 ],
 "metadata": {
  "kernelspec": {
   "display_name": "Python 3 (ipykernel)",
   "language": "python",
   "name": "python3"
  },
  "language_info": {
   "codemirror_mode": {
    "name": "ipython",
    "version": 3
   },
   "file_extension": ".py",
   "mimetype": "text/x-python",
   "name": "python",
   "nbconvert_exporter": "python",
   "pygments_lexer": "ipython3",
   "version": "3.12.5"
  }
 },
 "nbformat": 4,
 "nbformat_minor": 5
}
